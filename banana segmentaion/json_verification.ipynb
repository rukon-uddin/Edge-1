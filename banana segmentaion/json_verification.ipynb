{
 "cells": [
  {
   "cell_type": "code",
   "execution_count": 3,
   "id": "ab0344d3",
   "metadata": {},
   "outputs": [
    {
     "name": "stderr",
     "output_type": "stream",
     "text": [
      "100%|█████████████████████████████████████████████████████████████████████████████████| 31/31 [00:00<00:00, 368.87it/s]"
     ]
    },
    {
     "name": "stdout",
     "output_type": "stream",
     "text": [
      "D:\\Fiver\\bijubrisi\\model\\banana segmentaion\\banana_datasets\\banana_val\\36_100.jpg\n",
      "D:\\Fiver\\bijubrisi\\model\\banana segmentaion\\banana_datasets\\banana_val\\94_100.jpg\n",
      "D:\\Fiver\\bijubrisi\\model\\banana segmentaion\\banana_datasets\\banana_val\\95_100.jpg\n",
      "D:\\Fiver\\bijubrisi\\model\\banana segmentaion\\banana_datasets\\banana_val\\100_100.jpg\n",
      "D:\\Fiver\\bijubrisi\\model\\banana segmentaion\\banana_datasets\\banana_val\\113_100.jpg\n",
      "D:\\Fiver\\bijubrisi\\model\\banana segmentaion\\banana_datasets\\banana_val\\116_100.jpg\n",
      "D:\\Fiver\\bijubrisi\\model\\banana segmentaion\\banana_datasets\\banana_val\\157_100.jpg\n",
      "D:\\Fiver\\bijubrisi\\model\\banana segmentaion\\banana_datasets\\banana_val\\158_100.jpg\n",
      "D:\\Fiver\\bijubrisi\\model\\banana segmentaion\\banana_datasets\\banana_val\\159_100.jpg\n",
      "D:\\Fiver\\bijubrisi\\model\\banana segmentaion\\banana_datasets\\banana_val\\166_100.jpg\n",
      "D:\\Fiver\\bijubrisi\\model\\banana segmentaion\\banana_datasets\\banana_val\\172_100.jpg\n",
      "D:\\Fiver\\bijubrisi\\model\\banana segmentaion\\banana_datasets\\banana_val\\173_100.jpg\n",
      "D:\\Fiver\\bijubrisi\\model\\banana segmentaion\\banana_datasets\\banana_val\\174_100.jpg\n",
      "D:\\Fiver\\bijubrisi\\model\\banana segmentaion\\banana_datasets\\banana_val\\175_100.jpg\n",
      "D:\\Fiver\\bijubrisi\\model\\banana segmentaion\\banana_datasets\\banana_val\\181_100.jpg\n",
      "D:\\Fiver\\bijubrisi\\model\\banana segmentaion\\banana_datasets\\banana_val\\318_100.jpg\n",
      "D:\\Fiver\\bijubrisi\\model\\banana segmentaion\\banana_datasets\\banana_val\\320_100.jpg\n",
      "D:\\Fiver\\bijubrisi\\model\\banana segmentaion\\banana_datasets\\banana_val\\r_32_100.jpg\n",
      "D:\\Fiver\\bijubrisi\\model\\banana segmentaion\\banana_datasets\\banana_val\\r_37_100.jpg\n",
      "D:\\Fiver\\bijubrisi\\model\\banana segmentaion\\banana_datasets\\banana_val\\r_38_100.jpg\n",
      "D:\\Fiver\\bijubrisi\\model\\banana segmentaion\\banana_datasets\\banana_val\\r_39_100.jpg\n",
      "D:\\Fiver\\bijubrisi\\model\\banana segmentaion\\banana_datasets\\banana_val\\r_41_100.jpg\n",
      "D:\\Fiver\\bijubrisi\\model\\banana segmentaion\\banana_datasets\\banana_val\\r_42_100.jpg\n",
      "D:\\Fiver\\bijubrisi\\model\\banana segmentaion\\banana_datasets\\banana_val\\r_43_100.jpg\n",
      "D:\\Fiver\\bijubrisi\\model\\banana segmentaion\\banana_datasets\\banana_val\\r_46_100.jpg\n",
      "D:\\Fiver\\bijubrisi\\model\\banana segmentaion\\banana_datasets\\banana_val\\r_47_100.jpg\n",
      "D:\\Fiver\\bijubrisi\\model\\banana segmentaion\\banana_datasets\\banana_val\\r_49_100.jpg\n",
      "D:\\Fiver\\bijubrisi\\model\\banana segmentaion\\banana_datasets\\banana_val\\r_51_100.jpg\n",
      "D:\\Fiver\\bijubrisi\\model\\banana segmentaion\\banana_datasets\\banana_val\\r_216_100.jpg\n",
      "D:\\Fiver\\bijubrisi\\model\\banana segmentaion\\banana_datasets\\banana_val\\r_223_100.jpg\n",
      "D:\\Fiver\\bijubrisi\\model\\banana segmentaion\\banana_datasets\\banana_val\\r_227_100.jpg\n"
     ]
    },
    {
     "name": "stderr",
     "output_type": "stream",
     "text": [
      "\n"
     ]
    }
   ],
   "source": [
    "import os\n",
    "import sys\n",
    "import json\n",
    "import datetime\n",
    "import numpy as np\n",
    "import skimage.draw\n",
    "from PIL import Image\n",
    "import cv2\n",
    "from mrcnn.visualize import display_instances\n",
    "import matplotlib.pyplot as plt\n",
    "from tqdm import tqdm\n",
    "\n",
    "# Root directory of the project\n",
    "dataset_dir = r\"D:\\Fiver\\bijubrisi\\model\\banana segmentaion\\banana_datasets\\banana_val\"\n",
    "\n",
    "annotations1 = json.load(open(os.path.join(dataset_dir, \"vgg_json.json\")))\n",
    "annotations = list(annotations1.values())  \n",
    "annotations = [a for a in annotations if a['regions']]\n",
    "\n",
    "# Add images\n",
    "for a in tqdm(annotations):\n",
    "    \n",
    "    polygons = [r['shape_attributes'] for r in a['regions']]\n",
    "    objects = [s['region_attributes']['name'] for s in a['regions']]\n",
    "    name_dict = {\"banana\": 1}\n",
    "\n",
    "    # key = tuple(name_dict)\n",
    "    num_ids = [name_dict[a] for a in objects]\n",
    "    image_path = os.path.join(dataset_dir, a['filename'])\n",
    "    print(image_path)\n",
    "    image = skimage.io.imread(image_path)\n"
   ]
  },
  {
   "cell_type": "code",
   "execution_count": null,
   "id": "7cc11490",
   "metadata": {},
   "outputs": [],
   "source": [
    "0afa93a10f691f08\n",
    "0ca2272046e4fedc"
   ]
  }
 ],
 "metadata": {
  "kernelspec": {
   "display_name": "Python 3",
   "language": "python",
   "name": "python3"
  },
  "language_info": {
   "codemirror_mode": {
    "name": "ipython",
    "version": 3
   },
   "file_extension": ".py",
   "mimetype": "text/x-python",
   "name": "python",
   "nbconvert_exporter": "python",
   "pygments_lexer": "ipython3",
   "version": "3.6.13"
  }
 },
 "nbformat": 4,
 "nbformat_minor": 5
}
