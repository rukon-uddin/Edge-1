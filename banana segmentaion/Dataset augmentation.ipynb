{
 "cells": [
  {
   "cell_type": "code",
   "execution_count": 5,
   "id": "8cc3958f",
   "metadata": {},
   "outputs": [],
   "source": [
    "import cv2\n",
    "import glob\n",
    "import os\n",
    "from tqdm import tqdm"
   ]
  },
  {
   "cell_type": "code",
   "execution_count": 13,
   "id": "6dc014a6",
   "metadata": {},
   "outputs": [],
   "source": [
    "image_dir = r\"D:\\Fiver\\bijubrisi\\model\\banana segmentaion\\banan dataset\\val\"\n",
    "img_path = os.listdir(image_dir)\n",
    "save_dir = image_dir"
   ]
  },
  {
   "cell_type": "code",
   "execution_count": 14,
   "id": "5acce713",
   "metadata": {},
   "outputs": [
    {
     "name": "stderr",
     "output_type": "stream",
     "text": [
      "100%|██████████████████████████████████████████████████████████████████████████████████| 11/11 [00:00<00:00, 19.78it/s]\n"
     ]
    }
   ],
   "source": [
    "t = 53438\n",
    "for img in tqdm(glob.glob(image_dir + \"/*.jpg\")):\n",
    "    image = cv2.imread(img)\n",
    "    h, w = image.shape[:2]\n",
    "    rotate_matrix = cv2.getRotationMatrix2D((w/2, h/2), 90, 1)\n",
    "    rotated_image = cv2.warpAffine(image, rotate_matrix, (w, h))\n",
    "    cv2.imwrite(save_dir + \"/{}.jpg\".format(t), rotated_image)\n",
    "    t+=1"
   ]
  },
  {
   "cell_type": "code",
   "execution_count": null,
   "id": "efa162fc",
   "metadata": {},
   "outputs": [],
   "source": []
  }
 ],
 "metadata": {
  "kernelspec": {
   "display_name": "Python 3",
   "language": "python",
   "name": "python3"
  },
  "language_info": {
   "codemirror_mode": {
    "name": "ipython",
    "version": 3
   },
   "file_extension": ".py",
   "mimetype": "text/x-python",
   "name": "python",
   "nbconvert_exporter": "python",
   "pygments_lexer": "ipython3",
   "version": "3.6.13"
  }
 },
 "nbformat": 4,
 "nbformat_minor": 5
}
