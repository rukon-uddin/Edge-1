{
 "cells": [
  {
   "cell_type": "code",
   "execution_count": 11,
   "id": "8cc3958f",
   "metadata": {},
   "outputs": [],
   "source": [
    "import cv2\n",
    "import glob\n",
    "import os"
   ]
  },
  {
   "cell_type": "code",
   "execution_count": 12,
   "id": "6dc014a6",
   "metadata": {},
   "outputs": [],
   "source": [
    "image_dir = r\"D:\\Fiver\\bijubrisi\\model\\banana segmentaion\\banan dataset\\train\"\n",
    "img_path = os.listdir(image_dir)\n",
    "save_dir = image_dir"
   ]
  },
  {
   "cell_type": "code",
   "execution_count": 9,
   "id": "5acce713",
   "metadata": {},
   "outputs": [
    {
     "data": {
      "text/plain": [
       "['1122202173912 (1).jpg',\n",
       " '1122202173912 (1).webp',\n",
       " '1122202173912 (10).jpg',\n",
       " '1122202173912 (11).jpg',\n",
       " '1122202173912 (12).jpg',\n",
       " '1122202173912 (13).jpg',\n",
       " '1122202173912 (14).jpg',\n",
       " '1122202173912 (15).jpg',\n",
       " '1122202173912 (16).jpg',\n",
       " '1122202173912 (17).jpg',\n",
       " '1122202173912 (18).jpg',\n",
       " '1122202173912 (19).jpg',\n",
       " '1122202173912 (2).jpg',\n",
       " '1122202173912 (2).webp',\n",
       " '1122202173912 (20).jpg',\n",
       " '1122202173912 (21).jpg',\n",
       " '1122202173912 (22).jpg',\n",
       " '1122202173912 (3).jpg',\n",
       " '1122202173912 (3).webp',\n",
       " '1122202173912 (4).jpg',\n",
       " '1122202173912 (4).webp',\n",
       " '1122202173912 (5).jpg',\n",
       " '1122202173912 (5).webp',\n",
       " '1122202173912 (6).jpg',\n",
       " '1122202173912 (6).webp',\n",
       " '1122202173912 (7).jpg',\n",
       " '1122202173912 (7).webp',\n",
       " '1122202173912 (8).jpg',\n",
       " '1122202173912 (8).webp',\n",
       " '1122202173912 (9).jpg']"
      ]
     },
     "execution_count": 9,
     "metadata": {},
     "output_type": "execute_result"
    }
   ],
   "source": [
    "for img in glob.glob(image_dir + \"/*.jpg\"):\n",
    "    image = cv2.imread(img)\n",
    "    h, w = image.shape[:2]\n",
    "    rotate_matrix = cv2.getRotationMatrix2d "
   ]
  },
  {
   "cell_type": "code",
   "execution_count": null,
   "id": "efa162fc",
   "metadata": {},
   "outputs": [],
   "source": []
  }
 ],
 "metadata": {
  "kernelspec": {
   "display_name": "Python 3",
   "language": "python",
   "name": "python3"
  },
  "language_info": {
   "codemirror_mode": {
    "name": "ipython",
    "version": 3
   },
   "file_extension": ".py",
   "mimetype": "text/x-python",
   "name": "python",
   "nbconvert_exporter": "python",
   "pygments_lexer": "ipython3",
   "version": "3.6.13"
  }
 },
 "nbformat": 4,
 "nbformat_minor": 5
}
