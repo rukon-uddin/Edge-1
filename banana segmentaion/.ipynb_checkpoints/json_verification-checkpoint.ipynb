{
 "cells": [
  {
   "cell_type": "code",
   "execution_count": 25,
   "id": "ab0344d3",
   "metadata": {},
   "outputs": [
    {
     "name": "stderr",
     "output_type": "stream",
     "text": [
      " 10%|████████▎                                                                          | 4/40 [00:00<00:00, 37.38it/s]"
     ]
    },
    {
     "name": "stdout",
     "output_type": "stream",
     "text": [
      "D:\\Fiver\\bijubrisi\\model\\mask_rcnn\\val\\__opt__aboutcom__coeus__resources__content_migration__serious_eats__seriouseats.com__2018__10__20181015-state-of-slice-delmar-clay-williams-2de043fa5a0d4475b6c567e4a974b13b.jpg\n",
      "D:\\Fiver\\bijubrisi\\model\\mask_rcnn\\val\\24dd8f25-c193-498f-8599-f783440de890-scaled.jpeg\n",
      "D:\\Fiver\\bijubrisi\\model\\mask_rcnn\\val\\6115024-fresh-pizza-slice.jpg\n",
      "D:\\Fiver\\bijubrisi\\model\\mask_rcnn\\val\\26346218-fresh-orrange-isolated-on-the-white-background.jpg\n",
      "D:\\Fiver\\bijubrisi\\model\\mask_rcnn\\val\\76329770.jpg\n",
      "D:\\Fiver\\bijubrisi\\model\\mask_rcnn\\val\\bananas-732x549-thumbnail-732x549.jpg\n",
      "D:\\Fiver\\bijubrisi\\model\\mask_rcnn\\val\\Best-pasta-recipes.jpg\n",
      "D:\\Fiver\\bijubrisi\\model\\mask_rcnn\\val\\Broccoli-Pasta.jpg\n",
      "D:\\Fiver\\bijubrisi\\model\\mask_rcnn\\val\\closeup-flattened-out-whole-barbecued-260nw-614454965.jpg\n",
      "D:\\Fiver\\bijubrisi\\model\\mask_rcnn\\val\\Creamy-Tomato-Spinach-Pasta-close.jpg\n",
      "D:\\Fiver\\bijubrisi\\model\\mask_rcnn\\val\\DSC05911-1024x600.jpg\n",
      "D:\\Fiver\\bijubrisi\\model\\mask_rcnn\\val\\Easy-Chicken-Fry-Recipe.jpg\n",
      "D:\\Fiver\\bijubrisi\\model\\mask_rcnn\\val\\Fried-Fish-Tilapia.jpg\n"
     ]
    },
    {
     "name": "stderr",
     "output_type": "stream",
     "text": [
      " 55%|█████████████████████████████████████████████                                     | 22/40 [00:00<00:00, 68.77it/s]"
     ]
    },
    {
     "name": "stdout",
     "output_type": "stream",
     "text": [
      "D:\\Fiver\\bijubrisi\\model\\mask_rcnn\\val\\gettyimages-459761948.jpg\n",
      "D:\\Fiver\\bijubrisi\\model\\mask_rcnn\\val\\grilled-whole-chicken-recipe-4.jpg\n",
      "D:\\Fiver\\bijubrisi\\model\\mask_rcnn\\val\\grilled-whole-chicken-recipe-10.jpg\n",
      "D:\\Fiver\\bijubrisi\\model\\mask_rcnn\\val\\Hamburger_(black_bg).jpg\n",
      "D:\\Fiver\\bijubrisi\\model\\mask_rcnn\\val\\homemade-bread-horizontal-1547759080.jpg\n",
      "D:\\Fiver\\bijubrisi\\model\\mask_rcnn\\val\\images (1).jfif\n",
      "D:\\Fiver\\bijubrisi\\model\\mask_rcnn\\val\\istockphoto-168370138-612x612.jpg\n",
      "D:\\Fiver\\bijubrisi\\model\\mask_rcnn\\val\\istockphoto-179126259-612x612.jpg\n",
      "D:\\Fiver\\bijubrisi\\model\\mask_rcnn\\val\\istockphoto-185262648-170667a.jpg\n",
      "D:\\Fiver\\bijubrisi\\model\\mask_rcnn\\val\\istockphoto-892531386-170667a.jpg\n",
      "D:\\Fiver\\bijubrisi\\model\\mask_rcnn\\val\\istockphoto-909729878-612x612.jpg\n",
      "D:\\Fiver\\bijubrisi\\model\\mask_rcnn\\val\\istockphoto-1008183290-612x612.jpg\n",
      "D:\\Fiver\\bijubrisi\\model\\mask_rcnn\\val\\istockphoto-1151535170-612x612.jpg\n",
      "D:\\Fiver\\bijubrisi\\model\\mask_rcnn\\val\\istockphoto-1273265652-612x612.jpg\n",
      "D:\\Fiver\\bijubrisi\\model\\mask_rcnn\\val\\mango-leaf-isolated-white-background-260nw-1157303833.jpg\n"
     ]
    },
    {
     "name": "stderr",
     "output_type": "stream",
     "text": [
      " 95%|█████████████████████████████████████████████████████████████████████████████▉    | 38/40 [00:00<00:00, 66.67it/s]"
     ]
    },
    {
     "name": "stdout",
     "output_type": "stream",
     "text": [
      "D:\\Fiver\\bijubrisi\\model\\mask_rcnn\\val\\maxresdefault.jpg\n",
      "D:\\Fiver\\bijubrisi\\model\\mask_rcnn\\val\\Milk-Bread-FF2.jpg\n",
      "D:\\Fiver\\bijubrisi\\model\\mask_rcnn\\val\\Orrange.jpg\n",
      "D:\\Fiver\\bijubrisi\\model\\mask_rcnn\\val\\photo-1605666807892-8c11d020bede.jpg\n",
      "D:\\Fiver\\bijubrisi\\model\\mask_rcnn\\val\\pizza-slice-cut-white-36251260.jpg\n",
      "D:\\Fiver\\bijubrisi\\model\\mask_rcnn\\val\\pomme-large.jpg\n",
      "D:\\Fiver\\bijubrisi\\model\\mask_rcnn\\val\\r0d9ifhlewowgrdzfvng.jpg\n",
      "D:\\Fiver\\bijubrisi\\model\\mask_rcnn\\val\\red-apples-were-cut-half-260nw-1214930602.jpg\n",
      "D:\\Fiver\\bijubrisi\\model\\mask_rcnn\\val\\representational-image.jpg\n",
      "D:\\Fiver\\bijubrisi\\model\\mask_rcnn\\val\\ripe-red-apple-fruits-slice-260nw-1119850229.jpg\n",
      "D:\\Fiver\\bijubrisi\\model\\mask_rcnn\\val\\sour-cream-and-onion-pasta-4507w.jpg\n"
     ]
    },
    {
     "name": "stderr",
     "output_type": "stream",
     "text": [
      "\r",
      "100%|██████████████████████████████████████████████████████████████████████████████████| 40/40 [00:00<00:00, 62.02it/s]"
     ]
    },
    {
     "name": "stdout",
     "output_type": "stream",
     "text": [
      "D:\\Fiver\\bijubrisi\\model\\mask_rcnn\\val\\white-bread-9aca49dd298d29eba19afe086778b821bc7f90fd-s1100-c50.jpg\n"
     ]
    },
    {
     "name": "stderr",
     "output_type": "stream",
     "text": [
      "\n"
     ]
    }
   ],
   "source": [
    "import os\n",
    "import sys\n",
    "import json\n",
    "import datetime\n",
    "import numpy as np\n",
    "import skimage.draw\n",
    "from PIL import Image\n",
    "import cv2\n",
    "from mrcnn.visualize import display_instances\n",
    "import matplotlib.pyplot as plt\n",
    "from tqdm import tqdm\n",
    "\n",
    "# Root directory of the project\n",
    "dataset_dir = r\"D:\\Fiver\\bijubrisi\\model\\mask_rcnn\\val\"\n",
    "\n",
    "annotations1 = json.load(open(os.path.join(dataset_dir, \"vgg_json.json\")))\n",
    "annotations = list(annotations1.values())  \n",
    "annotations = [a for a in annotations if a['regions']]\n",
    "\n",
    "# Add images\n",
    "for a in tqdm(annotations):\n",
    "    \n",
    "    polygons = [r['shape_attributes'] for r in a['regions']]\n",
    "    objects = [s['region_attributes']['name'] for s in a['regions']]\n",
    "    name_dict = {\"apple\": 1, \"banana\": 2, \"beef\": 3, \"bread\": 4, \"chicken\": 5, \"fish\": 6, \"burger\": 7,\n",
    "                 \"mango\": 8, \"orange\": 9, \"pasta\": 10, \"pizza\": 11}\n",
    "\n",
    "    # key = tuple(name_dict)\n",
    "    num_ids = [name_dict[a] for a in objects]\n",
    "    image_path = os.path.join(dataset_dir, a['filename'])\n",
    "    print(image_path)\n",
    "    image = skimage.io.imread(image_path)\n"
   ]
  },
  {
   "cell_type": "code",
   "execution_count": null,
   "id": "7cc11490",
   "metadata": {},
   "outputs": [],
   "source": [
    "0afa93a10f691f08\n",
    "0ca2272046e4fedc"
   ]
  }
 ],
 "metadata": {
  "kernelspec": {
   "display_name": "Python 3",
   "language": "python",
   "name": "python3"
  },
  "language_info": {
   "codemirror_mode": {
    "name": "ipython",
    "version": 3
   },
   "file_extension": ".py",
   "mimetype": "text/x-python",
   "name": "python",
   "nbconvert_exporter": "python",
   "pygments_lexer": "ipython3",
   "version": "3.6.13"
  }
 },
 "nbformat": 4,
 "nbformat_minor": 5
}
